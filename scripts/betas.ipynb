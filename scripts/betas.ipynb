{
 "metadata": {
  "language_info": {
   "codemirror_mode": {
    "name": "ipython",
    "version": 3
   },
   "file_extension": ".py",
   "mimetype": "text/x-python",
   "name": "python",
   "nbconvert_exporter": "python",
   "pygments_lexer": "ipython3",
   "version": "3.9.5"
  },
  "orig_nbformat": 4,
  "kernelspec": {
   "name": "python3",
   "display_name": "Python 3.9.5 64-bit ('venv': venv)"
  },
  "interpreter": {
   "hash": "02ba76c8590b555f52861666e3225279053f4f4a31b100a9e82a3386ea0d1b0b"
  }
 },
 "nbformat": 4,
 "nbformat_minor": 2,
 "cells": [
  {
   "source": [
    "# Betas\n",
    "$r_{i,t} = \\alpha_i + \\beta_i\\cdot r_{m,t} + \\varepsilon_t$\n",
    "\n",
    "Global real estate: 0.664\n",
    "Liow, K. H., & Newell, G. (2016). Real estate global beta and spillovers: An international study. Economic Modelling, 59, 297–313. https://doi.org/10.1016/j.econmod.2016.08.001\n",
    "\n",
    "\n",
    "\n",
    "\n",
    "\n"
   ],
   "cell_type": "markdown",
   "metadata": {}
  },
  {
   "source": [],
   "cell_type": "markdown",
   "metadata": {}
  }
 ]
}